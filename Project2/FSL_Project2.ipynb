{
 "cells": [
  {
   "cell_type": "markdown",
   "metadata": {},
   "source": [
    "# CSE569"
   ]
  },
  {
   "cell_type": "markdown",
   "metadata": {},
   "source": [
    "# PROJECT 2"
   ]
  },
  {
   "cell_type": "markdown",
   "metadata": {},
   "source": [
    "# Experimenting with SVM"
   ]
  },
  {
   "cell_type": "markdown",
   "metadata": {},
   "source": [
    "# Nitheese Thirumoorthy"
   ]
  },
  {
   "cell_type": "markdown",
   "metadata": {},
   "source": [
    "# ASU ID:1225417336"
   ]
  },
  {
   "cell_type": "markdown",
   "metadata": {},
   "source": [
    "# Importing Libraries"
   ]
  },
  {
   "cell_type": "code",
   "execution_count": 1,
   "metadata": {},
   "outputs": [],
   "source": [
    "import numpy as np\n",
    "import pandas as pd\n",
    "import scipy.io\n",
    "from libsvm.svmutil import *\n",
    "import os"
   ]
  },
  {
   "cell_type": "markdown",
   "metadata": {},
   "source": [
    "# Loading the data"
   ]
  },
  {
   "cell_type": "code",
   "execution_count": 2,
   "metadata": {},
   "outputs": [],
   "source": [
    "train=scipy.io.loadmat(\"trainData.mat\")\n",
    "X1_train=train['X1']\n",
    "X2_train=train['X2']\n",
    "X3_train=train['X3']\n",
    "Y_train=train['Y']\n",
    "\n",
    "test=scipy.io.loadmat(\"testData.mat\")\n",
    "X1_test=test['X1']\n",
    "X2_test=test['X2']\n",
    "X3_test=test['X3']\n",
    "Y_test=test['Y']"
   ]
  },
  {
   "cell_type": "markdown",
   "metadata": {},
   "source": [
    "# STEP 0"
   ]
  },
  {
   "cell_type": "code",
   "execution_count": 3,
   "metadata": {},
   "outputs": [],
   "source": [
    "#training the SVM\n",
    "Y_train=[i[0] for i in Y_train]\n",
    "Y_train=np.asarray(Y_train)\n",
    "Y_test=[i[0] for i in Y_test]\n",
    "Y_test=np.asarray(Y_test)"
   ]
  },
  {
   "cell_type": "markdown",
   "metadata": {},
   "source": [
    "# part1"
   ]
  },
  {
   "cell_type": "code",
   "execution_count": 11,
   "metadata": {},
   "outputs": [
    {
     "name": "stdout",
     "output_type": "stream",
     "text": [
      "Accuracy = 10.7807% (203/1883) (classification)\n"
     ]
    }
   ],
   "source": [
    "#Training and testing with X1_train,X1_test\n",
    "prob=svm_problem(Y_train,X1_train)\n",
    "param=svm_parameter('-c 10 -t 0')\n",
    "m=svm_train(prob,param)\n",
    "label_11,acc_11,pval_11=svm_predict(Y_test,X1_test,m)"
   ]
  },
  {
   "cell_type": "code",
   "execution_count": 12,
   "metadata": {},
   "outputs": [
    {
     "name": "stdout",
     "output_type": "stream",
     "text": [
      "Accuracy = 16.6755% (314/1883) (classification)\n"
     ]
    }
   ],
   "source": [
    "#Training and testing with X2\n",
    "prob=svm_problem(Y_train,X2_train)\n",
    "param=svm_parameter('-c 10 -t 0')\n",
    "m=svm_train(prob,param)\n",
    "label_12,acc_12,pval_12=svm_predict(Y_test,X2_test,m)"
   ]
  },
  {
   "cell_type": "code",
   "execution_count": 13,
   "metadata": {},
   "outputs": [
    {
     "name": "stdout",
     "output_type": "stream",
     "text": [
      "Accuracy = 8.92193% (168/1883) (classification)\n"
     ]
    }
   ],
   "source": [
    "#Training and testing with X3\n",
    "prob=svm_problem(Y_train,X3_train)\n",
    "param=svm_parameter('-c 10 -t 0')\n",
    "m=svm_train(prob,param)\n",
    "label_13,acc_13,pval_13=svm_predict(Y_test,X3_test,m)"
   ]
  },
  {
   "cell_type": "code",
   "execution_count": 17,
   "metadata": {},
   "outputs": [
    {
     "name": "stdout",
     "output_type": "stream",
     "text": [
      "Accuracies obtained in Step-0 Part-1 :\n",
      "For X1_test:  10.780669144981413%\n",
      "For X2_test:  16.675517790759425%\n",
      "For X3_test:  8.921933085501859%\n"
     ]
    }
   ],
   "source": [
    "print(\"Accuracies obtained in Step-0 Part-1 :\")\n",
    "print(\"For X1_test: \",str(acc_11[0])+\"%\")\n",
    "print(\"For X2_test: \",str(acc_12[0])+\"%\")\n",
    "print(\"For X3_test: \",str(acc_13[0])+\"%\")"
   ]
  },
  {
   "cell_type": "markdown",
   "metadata": {},
   "source": [
    "# part 2"
   ]
  },
  {
   "cell_type": "code",
   "execution_count": 18,
   "metadata": {},
   "outputs": [
    {
     "name": "stdout",
     "output_type": "stream",
     "text": [
      "Accuracy = 27.1907% (512/1883) (classification)\n"
     ]
    }
   ],
   "source": [
    "# Calculating posterior probability accoring to X1\n",
    "prob=svm_problem(Y_train,X1_train)\n",
    "param=svm_parameter('-t 0 -c 10 -b 1 -q')\n",
    "m=svm_train(prob,param)\n",
    "\n",
    "label_21,acc_21,pval_21=svm_predict(Y_test,X1_test,m,'-b 1')"
   ]
  },
  {
   "cell_type": "code",
   "execution_count": 19,
   "metadata": {},
   "outputs": [
    {
     "name": "stdout",
     "output_type": "stream",
     "text": [
      "Accuracy = 28.0404% (528/1883) (classification)\n"
     ]
    }
   ],
   "source": [
    "# Calculating posterior probability accoring to X2\n",
    "prob=svm_problem(Y_train,X2_train)\n",
    "param=svm_parameter('-t 0 -c 10 -b 1 -q')\n",
    "m=svm_train(prob,param)\n",
    "\n",
    "label_22,acc_22,pval_22=svm_predict(Y_test,X2_test,m,'-b 1')"
   ]
  },
  {
   "cell_type": "code",
   "execution_count": 20,
   "metadata": {},
   "outputs": [
    {
     "name": "stdout",
     "output_type": "stream",
     "text": [
      "Accuracy = 28.6245% (539/1883) (classification)\n"
     ]
    }
   ],
   "source": [
    "# Calculating posterior probability accoring to X3\n",
    "prob=svm_problem(Y_train,X3_train)\n",
    "param=svm_parameter('-t 0 -c 10 -b 1 -q')\n",
    "m=svm_train(prob,param)\n",
    "\n",
    "label_23,acc_23,pval_23=svm_predict(Y_test,X3_test,m,'-b 1')"
   ]
  },
  {
   "cell_type": "code",
   "execution_count": 21,
   "metadata": {},
   "outputs": [
    {
     "name": "stdout",
     "output_type": "stream",
     "text": [
      "Accuracies obtained in Step-0 Part-2 :\n",
      "For X1_test:  27.190653212958043%\n",
      "For X2_test:  28.040361125862983%\n",
      "For X3_test:  28.624535315985128%\n"
     ]
    }
   ],
   "source": [
    "print(\"Accuracies obtained in Step-0 Part-2 :\")\n",
    "print(\"For X1_test: \",str(acc_21[0])+\"%\")\n",
    "print(\"For X2_test: \",str(acc_22[0])+\"%\")\n",
    "print(\"For X3_test: \",str(acc_23[0])+\"%\")"
   ]
  },
  {
   "cell_type": "markdown",
   "metadata": {},
   "source": [
    "# STEP 1"
   ]
  },
  {
   "cell_type": "code",
   "execution_count": 23,
   "metadata": {},
   "outputs": [
    {
     "name": "stdout",
     "output_type": "stream",
     "text": [
      "Accuracy obtained in Step 1 by fusion of classifiers is  44.503451938396175 %\n"
     ]
    }
   ],
   "source": [
    "#Feature Combination by fusion of Classifiers.\n",
    "combined_probability=[]\n",
    "\n",
    "#Combining the 3 classifiers by probability fusion.\n",
    "for i in range(len(pval_23)):\n",
    "    temp=[]\n",
    "    for j in range(50):\n",
    "        p=(pval_21[i][j]+pval_22[i][j]+pval_23[i][j])/3\n",
    "        temp.append(p)\n",
    "    combined_probability.append(temp)\n",
    "\n",
    "#Assigning it to the label with the highest posterior probability and counting the number of correct predictions.\n",
    "correct=0\n",
    "for i in range(len(Y_test)):\n",
    "    Class=1+ combined_probability[i].index(max(combined_probability[i]))\n",
    "    if Class==Y_test[i]:\n",
    "        correct+=1\n",
    "\n",
    "print(\"Accuracy obtained in Step 1 by fusion of classifiers is \",(correct/len(Y_test))*100,\"%\")"
   ]
  },
  {
   "cell_type": "markdown",
   "metadata": {},
   "source": [
    "# STEP 2"
   ]
  },
  {
   "cell_type": "code",
   "execution_count": 25,
   "metadata": {},
   "outputs": [
    {
     "name": "stdout",
     "output_type": "stream",
     "text": [
      "Accuracy = 37.0685% (698/1883) (classification)\n",
      "Accuracies obtained in Part-2 :\n",
      "For X_test:  37.06850770047796%\n"
     ]
    }
   ],
   "source": [
    "#Concatenating all the three features and then performing train and test using SVM.\n",
    "\n",
    "X_train=[]\n",
    "#Concatinating X1_train,X2_train,X3_train \n",
    "for i in range(len(X1_train)):\n",
    "    x=np.concatenate((X1_train[i],X2_train[i],X3_train[i]),axis=None)\n",
    "    X_train.append(x)\n",
    "    \n",
    "    \n",
    "X_test=[]\n",
    "#Concatinating X1_test,X2_test,X3_test\n",
    "for i in range(len(X1_test)):\n",
    "    x=np.concatenate((X1_test[i],X2_test[i],X3_test[i]),axis=None)\n",
    "    X_test.append(x)\n",
    "\n",
    "\n",
    "#Training on the new feature-combined dataset(X_train).\n",
    "prob=svm_problem(Y_train,X_train)\n",
    "param=svm_parameter('-c 10 -t 0')\n",
    "m=svm_train(prob,param)\n",
    "\n",
    "\n",
    "#Testing on the new feature-combined dataset(X_test).\n",
    "label_2,acc_2,pval_2=svm_predict(Y_test,X_test,m)\n",
    "\n",
    "print(\"Accuracies obtained in Part-2 :\")\n",
    "print(\"For X_test: \",str(acc_2[0])+\"%\")"
   ]
  }
 ],
 "metadata": {
  "kernelspec": {
   "display_name": "Python 3",
   "language": "python",
   "name": "python3"
  },
  "language_info": {
   "codemirror_mode": {
    "name": "ipython",
    "version": 3
   },
   "file_extension": ".py",
   "mimetype": "text/x-python",
   "name": "python",
   "nbconvert_exporter": "python",
   "pygments_lexer": "ipython3",
   "version": "3.8.3"
  }
 },
 "nbformat": 4,
 "nbformat_minor": 4
}
